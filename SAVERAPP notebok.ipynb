{
  "cells": [
    {
      "cell_type": "markdown",
      "metadata": {
        "id": "18ZGaVO_F7U6"
      },
      "source": [
        "# SAVER APP\n",
        "### OOP and Hash Tables\n",
        "\n",
        "Mayca Valdecantos, Javier Torremocha, Micaela San Martín, Almudena Poveda and Marta Valencia"
      ]
    },
    {
      "cell_type": "code",
      "execution_count": 21,
      "metadata": {
        "id": "umsnqhgZjmg4"
      },
      "outputs": [],
      "source": [
        "#import libaries\n",
        "import numpy as np\n",
        "import pandas as pd\n",
        "from datetime import date"
      ]
    },
    {
      "cell_type": "markdown",
      "metadata": {
        "id": "07uyJltUrbjt"
      },
      "source": [
        "### 1. CREATING THE ACCOUNT "
      ]
    },
    {
      "cell_type": "markdown",
      "metadata": {
        "id": "d-9dkQ0auPey"
      },
      "source": [
        "We used Object Oriented Programming Algorithm for the login/register process.\n",
        "\n",
        "\n",
        "As data structures we used hash tables: for the interests and for the tracker."
      ]
    },
    {
      "cell_type": "code",
      "execution_count": 22,
      "metadata": {},
      "outputs": [
        {
          "name": "stdout",
          "output_type": "stream",
          "text": [
            "SAVER APP\n",
            "don't spend more than you should!\n",
            "\n",
            "Welcome to SAVERAPP marta_valencia\n",
            "IN ORDER TO TRACK YOUR EXPENSES CORRECTLY, WE WILL NEED MORE INFORMATION ABOUT YOU.\n",
            "\n",
            "You can spend 1200.0 this month\n",
            "\n",
            "Now, you need to add categories and add the percentage of your budget you want to spend in each of them\n",
            "\n",
            "You can spend 360.0 on clothes this month\n",
            "70.0% of your monthly budget left\n",
            "\n",
            "You can spend 360.0 on christmas this month\n",
            "40.0% of your monthly budget left\n",
            "\n",
            "You can spend 180.0 on food this month\n",
            "25.0% of your monthly budget left\n",
            "\n",
            "You can spend 120.0 on sport this month\n",
            "15.0% of your monthly budget left\n",
            "\n",
            "You can spend 180.0 on clubs this month\n",
            "0.0% of your monthly budget left\n",
            "\n",
            "\n",
            "CATEGORIES:\n",
            "clothes                               360.0\n",
            "christmas                             360.0\n",
            "food                                  180.0\n",
            "sport                                 120.0\n",
            "clubs                                 180.0\n",
            "\n",
            "TOTAL EXPENSES FOR THIS MONTH: 1200.0\n",
            "TOTAL SAVINGS FOR THIS MONTH: 300.0\n"
          ]
        }
      ],
      "source": [
        "class User():\n",
        "    def __init__(self, username, password, email):\n",
        "        self.username = username\n",
        "        self.password = password\n",
        "        self.email = email\n",
        "\n",
        "    def login(self):\n",
        "        self.username = input(\"Enter your username: \")\n",
        "        self.password = input(\"Enter your password: \")\n",
        "\n",
        "    def register(self):\n",
        "        self.email = input(\"Enter your email address: \")\n",
        "        self.username = input(\"Enter your username: \")\n",
        "        self.password = input(\"Enter your password: \")\n",
        "\n",
        "print(\"SAVER APP\")\n",
        "print(\"don't spend more than you should!\")\n",
        "print(\"\")\n",
        "\n",
        "choice = (input(\"Do you already have an account?\")).lower()\n",
        "if choice == \"yes\":\n",
        "    my_user = User(\"username\", \"password\", \"email\")\n",
        "    my_user.login()\n",
        "    print(f\"Welcome to SAVERAPP {my_user.username}\")\n",
        "elif choice == \"no\":\n",
        "    my_user = User(\"username\", \"password\", \"email\")\n",
        "    my_user.register()\n",
        "    print(f\"Welcome to SAVERAPP {my_user.username}!!\")\n",
        "\n",
        "\n",
        "print(\"IN ORDER TO TRACK YOUR EXPENSES CORRECTLY, WE WILL NEED MORE INFORMATION ABOUT YOU.\")\n",
        "print(\"\")\n",
        "monthly = float(input(\"What is your monthly budget?\"))\n",
        "save = float(input(\"What percentage do you want to save (e.g. 10)\"))\n",
        "money = monthly - monthly*save/100\n",
        "print(f\"You can spend {money} this month\")\n",
        "initial_percentage = 100\n",
        "\n",
        "interests = {}\n",
        "print(\"\")\n",
        "print(\"Now, you need to add categories and add the percentage of your budget you want to spend in each of them\")\n",
        "print(\"\")\n",
        "while True:\n",
        "    interest = input('Enter a category. Press <Enter> when you have 0% of your budget left: ')\n",
        "    if interest == \"\":\n",
        "        break\n",
        "    percentage = float(input('Enter the percentage you want to spend on ' + interest + ': '))\n",
        "    amount = money*percentage/100\n",
        "    print(f\"You can spend {amount} on {interest} this month\")\n",
        "    initial_percentage -= percentage\n",
        "    print(f\"{initial_percentage}% of your monthly budget left\")\n",
        "    print(\"\")\n",
        "    interests[interest] = amount\n",
        "    amounts = list(interests.values())\n",
        "    interests_list = list(interests.keys())\n",
        "    \n",
        "print(\"\")\n",
        "print('CATEGORIES:')\n",
        "for interest, amount in interests.items():\n",
        "    print(f\"{interest:20}   {amount:20}\")\n",
        "\n",
        "print(\"\")\n",
        "print(f\"TOTAL EXPENSES FOR THIS MONTH: {sum(amounts)}\")\n",
        "savings = money+monthly*(save/100)\n",
        "print(f\"TOTAL SAVINGS FOR THIS MONTH: {monthly*save/100}\")"
      ]
    },
    {
      "cell_type": "markdown",
      "metadata": {
        "id": "zNjxdCn4vUIi"
      },
      "source": [
        "### 2. CHECK CATEGORIES"
      ]
    },
    {
      "cell_type": "code",
      "execution_count": 23,
      "metadata": {
        "colab": {
          "base_uri": "https://localhost:8080/",
          "height": 211
        },
        "id": "L5f2kVV0FHEC",
        "outputId": "092b5930-d0b0-4d8e-ed26-aef3130e38b9"
      },
      "outputs": [
        {
          "name": "stdout",
          "output_type": "stream",
          "text": [
            "THIS ARE YOUR CATEGORIES AND THE MAXIMUM YOU CAN SPEND ON EACH FROM YOUR MONTHLY BUDGET IN ORDER TO SAVE 300.0$\n",
            "\n"
          ]
        },
        {
          "data": {
            "text/html": [
              "<div>\n",
              "<style scoped>\n",
              "    .dataframe tbody tr th:only-of-type {\n",
              "        vertical-align: middle;\n",
              "    }\n",
              "\n",
              "    .dataframe tbody tr th {\n",
              "        vertical-align: top;\n",
              "    }\n",
              "\n",
              "    .dataframe thead th {\n",
              "        text-align: right;\n",
              "    }\n",
              "</style>\n",
              "<table border=\"1\" class=\"dataframe\">\n",
              "  <thead>\n",
              "    <tr style=\"text-align: right;\">\n",
              "      <th></th>\n",
              "      <th>CATEGORY</th>\n",
              "      <th>MAX $</th>\n",
              "    </tr>\n",
              "  </thead>\n",
              "  <tbody>\n",
              "    <tr>\n",
              "      <th>0</th>\n",
              "      <td>clothes</td>\n",
              "      <td>360.0</td>\n",
              "    </tr>\n",
              "    <tr>\n",
              "      <th>1</th>\n",
              "      <td>christmas</td>\n",
              "      <td>360.0</td>\n",
              "    </tr>\n",
              "    <tr>\n",
              "      <th>2</th>\n",
              "      <td>food</td>\n",
              "      <td>180.0</td>\n",
              "    </tr>\n",
              "    <tr>\n",
              "      <th>3</th>\n",
              "      <td>sport</td>\n",
              "      <td>120.0</td>\n",
              "    </tr>\n",
              "    <tr>\n",
              "      <th>4</th>\n",
              "      <td>clubs</td>\n",
              "      <td>180.0</td>\n",
              "    </tr>\n",
              "  </tbody>\n",
              "</table>\n",
              "</div>"
            ],
            "text/plain": [
              "    CATEGORY  MAX $\n",
              "0    clothes  360.0\n",
              "1  christmas  360.0\n",
              "2       food  180.0\n",
              "3      sport  120.0\n",
              "4      clubs  180.0"
            ]
          },
          "execution_count": 23,
          "metadata": {},
          "output_type": "execute_result"
        }
      ],
      "source": [
        "print(f'THIS ARE YOUR CATEGORIES AND THE MAXIMUM YOU CAN SPEND ON EACH FROM YOUR MONTHLY BUDGET IN ORDER TO SAVE {monthly*save/100}$')\n",
        "print(\"\")\n",
        "df = pd.DataFrame(list(zip(interests_list, amounts )), columns =['CATEGORY', 'MAX $'])\n",
        "df"
      ]
    },
    {
      "cell_type": "markdown",
      "metadata": {
        "id": "buHJcdwhrl7W"
      },
      "source": [
        "### 3. RECORDING EXPENSES"
      ]
    },
    {
      "cell_type": "code",
      "execution_count": 24,
      "metadata": {
        "colab": {
          "base_uri": "https://localhost:8080/"
        },
        "id": "XBCKAbhSFLUc",
        "outputId": "1ca4c190-7b35-4d36-e259-b67582953bdf"
      },
      "outputs": [
        {
          "name": "stdout",
          "output_type": "stream",
          "text": [
            "NOW IT'S TIME TO START RECORDING YOUR EXPENSES! Remember your objectives!\n",
            "\n",
            "Choose an option (e.g. 3)\n",
            "\n",
            "\n",
            "Adding clothes\n",
            "  Goods  Prices       Dates Expense type\n",
            "0  zara    25.0  2022-12-11      clothes\n",
            "\n",
            "TOTAL EXPENSES: 25.0/1200.0\n",
            "\n",
            "\n",
            "Adding christmas\n",
            "      Goods  Prices       Dates Expense type\n",
            "0      zara    25.0  2022-12-11      clothes\n",
            "1  presents    90.0  2022-12-11    christmas\n",
            "\n",
            "TOTAL EXPENSES: 115.0/1200.0\n",
            "\n",
            "\n",
            "Adding christmas\n",
            "          Goods  Prices       Dates Expense type\n",
            "0          zara    25.0  2022-12-11      clothes\n",
            "1      presents    90.0  2022-12-11    christmas\n",
            "2  secret santa    15.0  2022-12-11    christmas\n",
            "\n",
            "TOTAL EXPENSES: 130.0/1200.0\n",
            "\n",
            "\n",
            "Adding sport\n",
            "          Goods  Prices       Dates Expense type\n",
            "0          zara    25.0  2022-12-11      clothes\n",
            "1      presents    90.0  2022-12-11    christmas\n",
            "2  secret santa    15.0  2022-12-11    christmas\n",
            "3           gym     5.0  2022-12-11        sport\n",
            "\n",
            "TOTAL EXPENSES: 135.0/1200.0\n",
            "\n",
            "\n",
            "Exiting the program\n",
            "\n",
            "          Goods  Prices       Dates Expense type\n",
            "0          zara    25.0  2022-12-11      clothes\n",
            "1      presents    90.0  2022-12-11    christmas\n",
            "2  secret santa    15.0  2022-12-11    christmas\n",
            "3           gym     5.0  2022-12-11        sport\n",
            "\n",
            "TOTAL EXPENSES: 135.0/1200.0\n"
          ]
        }
      ],
      "source": [
        "Goods = []\n",
        "Prices = []\n",
        "Dates = []\n",
        "Expense_type = []\n",
        "\n",
        "def new_expense (good, price, date, e_type):\n",
        "    Goods.append(good)\n",
        "    Prices.append(price)\n",
        "    Dates.append(date)\n",
        "    Expense_type.append(e_type)\n",
        "\n",
        "print(\"NOW IT'S TIME TO START RECORDING YOUR EXPENSES! Remember your objectives!\")\n",
        "print(\"\")\n",
        "print(\"Choose an option (e.g. 3)\")\n",
        "print(\"\")\n",
        "user_input = -1\n",
        "\n",
        "while(user_input != 0):\n",
        "    number = 0\n",
        "    interests_list_number = 1\n",
        "    tracker = {}\n",
        "    tracker[\"Exit\"] = 0\n",
        "    for interest in interests_list:\n",
        "        number += 0\n",
        "        tracker[f\"Add {interest} expense\"] = number\n",
        "\n",
        "    user_input = ''\n",
        "    input_message = \"EXPENSE TRACKER:\\n\"\n",
        "\n",
        "    for i, item in enumerate(tracker):\n",
        "        input_message += f'{i+1}. {item}\\n'\n",
        "    input_message += ''\n",
        "\n",
        "\n",
        "    while user_input not in map(str, range(1, len(tracker) + 1)):\n",
        "        user_input = input(input_message)\n",
        "        tracker.get(user_input[:-1])\n",
        "\n",
        "    print()\n",
        "\n",
        "    user_input = int(user_input)\n",
        "\n",
        "    if user_input != 1:\n",
        "        e_type = (interests_list[user_input - 2])\n",
        "        print(f\"Adding {e_type}\")\n",
        "\n",
        "\n",
        "    elif user_input == 1:\n",
        "        print(\"Exiting the program\")\n",
        "        print(\"\")\n",
        "        print(expense_report)\n",
        "        print(\"\")\n",
        "        print(f\"TOTAL EXPENSES: {sum(Prices)}/{money}\")\n",
        "        break\n",
        "\n",
        "        \n",
        "    else:\n",
        "        print(\"You chose an incorrect option. Please try again\")\n",
        "\n",
        "    #allow the user to enter the good or service and the price\n",
        "    if user_input != 1:\n",
        "        good = input(f\"Enter the good or service for the expense type {e_type}:\")\n",
        "        price = float(input(\"Enter the price of the good or service:\\n\"))\n",
        "        today = date.today()\n",
        "        new_expense(good, price, today, e_type)\n",
        "        expense_report = pd.DataFrame()  \n",
        "        expense_report[\"Goods\"] = Goods\n",
        "        expense_report[\"Prices\"] = Prices\n",
        "        expense_report[\"Dates\"] = Dates\n",
        "        expense_report[\"Expense type\"] = Expense_type\n",
        "        print(expense_report)\n",
        "        print(\"\")\n",
        "        print(f\"TOTAL EXPENSES: {sum(Prices)}/{money}\")\n",
        "\n",
        "\n",
        "    #print a new line\n",
        "    print()\n"
      ]
    },
    {
      "cell_type": "markdown",
      "metadata": {
        "id": "nNHGQ_iuFXl9"
      },
      "source": [
        "### CHECK TOTAL AND MAXIMUM EXPENSES PER CATEGORY AND MONEY LEFT PER CATEGORY"
      ]
    },
    {
      "cell_type": "code",
      "execution_count": 25,
      "metadata": {
        "colab": {
          "base_uri": "https://localhost:8080/",
          "height": 175
        },
        "id": "SjUX0HJxfHoJ",
        "outputId": "2bcef5f2-08fe-4988-d59c-2b8826fe9453"
      },
      "outputs": [
        {
          "data": {
            "text/html": [
              "<div>\n",
              "<style scoped>\n",
              "    .dataframe tbody tr th:only-of-type {\n",
              "        vertical-align: middle;\n",
              "    }\n",
              "\n",
              "    .dataframe tbody tr th {\n",
              "        vertical-align: top;\n",
              "    }\n",
              "\n",
              "    .dataframe thead th {\n",
              "        text-align: right;\n",
              "    }\n",
              "</style>\n",
              "<table border=\"1\" class=\"dataframe\">\n",
              "  <thead>\n",
              "    <tr style=\"text-align: right;\">\n",
              "      <th></th>\n",
              "      <th>$</th>\n",
              "      <th>MAX $</th>\n",
              "      <th>MORE MONEY LEFT</th>\n",
              "      <th>MONEY LEFT</th>\n",
              "    </tr>\n",
              "    <tr>\n",
              "      <th>Expense type</th>\n",
              "      <th></th>\n",
              "      <th></th>\n",
              "      <th></th>\n",
              "      <th></th>\n",
              "    </tr>\n",
              "  </thead>\n",
              "  <tbody>\n",
              "    <tr>\n",
              "      <th>christmas</th>\n",
              "      <td>105.0</td>\n",
              "      <td>360.0</td>\n",
              "      <td>True</td>\n",
              "      <td>255.0</td>\n",
              "    </tr>\n",
              "    <tr>\n",
              "      <th>clothes</th>\n",
              "      <td>25.0</td>\n",
              "      <td>360.0</td>\n",
              "      <td>True</td>\n",
              "      <td>335.0</td>\n",
              "    </tr>\n",
              "    <tr>\n",
              "      <th>sport</th>\n",
              "      <td>5.0</td>\n",
              "      <td>120.0</td>\n",
              "      <td>True</td>\n",
              "      <td>115.0</td>\n",
              "    </tr>\n",
              "  </tbody>\n",
              "</table>\n",
              "</div>"
            ],
            "text/plain": [
              "                  $  MAX $  MORE MONEY LEFT  MONEY LEFT\n",
              "Expense type                                           \n",
              "christmas     105.0  360.0             True       255.0\n",
              "clothes        25.0  360.0             True       335.0\n",
              "sport           5.0  120.0             True       115.0"
            ]
          },
          "execution_count": 25,
          "metadata": {},
          "output_type": "execute_result"
        }
      ],
      "source": [
        "p = tuple(Prices)\n",
        "e = tuple(Expense_type)\n",
        "lista= pd.DataFrame({'Expense type': e,'$': p})\n",
        "lista2 = lista.groupby([\"Expense type\"]).sum()\n",
        "df2 = df.groupby([\"CATEGORY\"]).sum()\n",
        "extracted_col = df2[\"MAX $\"]\n",
        "lista_final = lista2.join(extracted_col)\n",
        "lista_final['MORE MONEY LEFT'] = np.where(lista_final['$'] <= lista_final['MAX $'], True, False) \n",
        "lista_final['MONEY LEFT'] = lista_final['MAX $'] - lista_final['$']\n",
        "lista_final"
      ]
    }
  ],
  "metadata": {
    "colab": {
      "provenance": []
    },
    "kernelspec": {
      "display_name": "Python 3.8.2 64-bit",
      "language": "python",
      "name": "python3"
    },
    "language_info": {
      "codemirror_mode": {
        "name": "ipython",
        "version": 3
      },
      "file_extension": ".py",
      "mimetype": "text/x-python",
      "name": "python",
      "nbconvert_exporter": "python",
      "pygments_lexer": "ipython3",
      "version": "3.8.2"
    },
    "vscode": {
      "interpreter": {
        "hash": "31f2aee4e71d21fbe5cf8b01ff0e069b9275f58929596ceb00d14d90e3e16cd6"
      }
    }
  },
  "nbformat": 4,
  "nbformat_minor": 0
}
